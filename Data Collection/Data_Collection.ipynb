{
 "cells": [
  {
   "cell_type": "markdown",
   "metadata": {},
   "source": [
    "# Data Collection"
   ]
  },
  {
   "cell_type": "markdown",
   "metadata": {},
   "source": [
    "The data collected for this weather prediction model will be obtained from the APIs provided by the National Environment Agency available on <a href=\"https://data.gov.sg/dataset/realtime-weather-readings\">data.gov.sg</a>.\n",
    "\n",
    "The aim of this project is to create a model to predict the occurance of rain in a particular hour and hence API calls for each hour of the years 2017-2021 are made to create the dataset that will be analyzed. The reason for this range is that 2016 and 2022 data is incomplete. \n",
    "\n",
    "The available weather-related parameters are:<br><br>\n",
    "    1. Temperature<br>\n",
    "    2. Humidity<br>\n",
    "    3. Wind Direction<br>\n",
    "    4. Wind Speed<br>\n",
    "    5. Rainfall<br>"
   ]
  },
  {
   "cell_type": "markdown",
   "metadata": {},
   "source": [
    "## Step 1: Load the required libraries"
   ]
  },
  {
   "cell_type": "markdown",
   "metadata": {},
   "source": [
    "The most important library for the collection of data is the <code>requests</code> package. To avoid any API limitations, we will also be using the sleep function of the <code>time</code> module.<br>\n",
    "Next,<code>pandas</code>, <code>numpy</code> and <code>datetime.datetime</code> will be used to organise data into DataFrames, arrays and work with dates.<br>\n",
    "Lastly, we will be connecting to a MySQL database using <code>pymysql</code> to store the collected data as the API calls may be done over a few days."
   ]
  },
  {
   "cell_type": "code",
   "execution_count": 1,
   "metadata": {},
   "outputs": [],
   "source": [
    "import pandas as pd\n",
    "import numpy as np\n",
    "import requests\n",
    "import pymysql\n",
    "import time\n",
    "from datetime import datetime"
   ]
  },
  {
   "cell_type": "markdown",
   "metadata": {},
   "source": [
    "## Step 2: Initialize variables"
   ]
  },
  {
   "cell_type": "markdown",
   "metadata": {},
   "source": [
    "Set up the SQL connection and initialize the range of datetimes to call. <br>\n",
    "As NEA's API take in a format of \"%Y-%m-%dT%H:%M:%S+08:00\" (e.g 2018-01-01T00:00:00+08:00), the list should be converted into this format using <code>.strftime()</code>.<br>\n",
    "Use the function <code>pd.date_range()</code> argument <code>freq='60T'</code> to create a range of datetimes every hour."
   ]
  },
  {
   "cell_type": "code",
   "execution_count": null,
   "metadata": {},
   "outputs": [],
   "source": [
    "_CONN = pymysql.connect(host='localhost',\n",
    "                            user='root',\n",
    "                            password='********',\n",
    "                            db='weather')\n",
    "cursor = _CONN.cursor()\n",
    "\n",
    "runtimes=list(pd.date_range('2017-01-01 00:00:00',\n",
    "                            '2021-12-31 23:59:59',\n",
    "                            freq='60T').strftime('%Y-%m-%dT%H:%M:%S+08:00'))"
   ]
  },
  {
   "cell_type": "markdown",
   "metadata": {},
   "source": [
    "## Step 3: Collect the data"
   ]
  },
  {
   "cell_type": "markdown",
   "metadata": {},
   "source": [
    "Iterate the over the list of datetimes, using the datetimes as the parameters of the API call by passing in the parameters as a dictionary<br><code>params={\"date_time\":runtime}</code>.<br>\n",
    "Stop the process every 500 or so calls to hopefully avoid any limitations in API calls using <code>time.sleep()</code>.<br><br>\n",
    "\n",
    "Using the example of calling for temperature data:<br><br>\n",
    "First, call the API using <code>request.get(\"the correct api url\",params=params).json()</code>. This passes the json response into a python dictionary.<br>\n",
    "Next, initialize an empty DataFrame having the columns <code>[\"timestamp\",\"station_id\",\"latitude\",\"longitude\",\"reading\"]</code> to store the temporary data that will then be passed into the SQL database.<br>\n",
    "For every hour called, loop through the dictionary and collect all available data.<br>\n",
    "The information that are of importance are the latitude and longitude of the station that collected the data as well as the data itself.<br>\n",
    "\n",
    "Lastly, store the temporary DataFrame into the SQL database by execute the appropriate SQL <code>INSERT</code> statements.<br><br>\n",
    "Do the same for the other variables (humidity, wind direction, wind speed and rainfall) to collect them as well. You may want to split the collection of data over a few days as it may take some time."
   ]
  },
  {
   "cell_type": "code",
   "execution_count": null,
   "metadata": {},
   "outputs": [],
   "source": [
    "for runtime in runtimes:\n",
    "    print(\"Scrapping data for {}\".format(runtime))\n",
    "    params={\"date_time\":runtime}\n",
    "    if runtimes.index(runtime)>0 and runtimes.index(runtime)%500==0:\n",
    "        time.sleep(60)\n",
    "    a=requests.get('https://api.data.gov.sg/v1/environment/air-temperature', params=params).json()\n",
    "    temperature=pd.DataFrame(columns=[\"timestamp\",\"station_id\",\"latitude\",\"longitude\",\"reading\"])\n",
    "    for w in range(0,len(a[\"items\"][0][\"readings\"])):\n",
    "        if \"value\" not in a[\"items\"][0][\"readings\"][w]:\n",
    "            continue            \n",
    "        temperature=temperature.append({\"timestamp\":datetime.strptime(runtime,\"%Y-%m-%dT%H:%M:%S+08:00\"),\n",
    "                                        \"station_id\":a[\"items\"][0][\"readings\"][w][\"station_id\"],\n",
    "                                        \"latitude\":a[\"metadata\"][\"stations\"][w][\"location\"][\"latitude\"],\n",
    "                                        \"longitude\":a[\"metadata\"][\"stations\"][w][\"location\"][\"longitude\"],\n",
    "                                        \"reading\":a[\"items\"][0][\"readings\"][w][\"value\"]},ignore_index=True)\n",
    "    for index,row in temperature.iterrows():\n",
    "        cursor.execute(\"INSERT INTO temperature(timestamp,station_id,latitude,longitude,reading)VALUES(%s,%s,%s,%s,%s)\",\n",
    "                       (row[\"timestamp\"],row[\"station_id\"],row[\"latitude\"],row[\"longitude\"],row[\"reading\"]))"
   ]
  }
 ],
 "metadata": {
  "kernelspec": {
   "display_name": "Python 3",
   "language": "python",
   "name": "python3"
  },
  "language_info": {
   "codemirror_mode": {
    "name": "ipython",
    "version": 3
   },
   "file_extension": ".py",
   "mimetype": "text/x-python",
   "name": "python",
   "nbconvert_exporter": "python",
   "pygments_lexer": "ipython3",
   "version": "3.8.5"
  }
 },
 "nbformat": 4,
 "nbformat_minor": 4
}
