{
 "cells": [
  {
   "cell_type": "markdown",
   "id": "cd3b64ae",
   "metadata": {},
   "source": [
    "# Imbalanced Data Sampling Methods:\n",
    "1. None\n",
    "2. SMOTE-NC\n",
    "3. SMOTE\n",
    "4. ADASYN\n",
    "5. ENN\n",
    "6. TomekLinks\n",
    "7. SOMTEENN\n",
    "8. TabGAN"
   ]
  },
  {
   "cell_type": "markdown",
   "id": "53ecd97a",
   "metadata": {},
   "source": [
    "Load Libraries"
   ]
  },
  {
   "cell_type": "code",
   "execution_count": 1,
   "id": "8a7fcfbd",
   "metadata": {},
   "outputs": [],
   "source": [
    "import pandas as pd\n",
    "from datetime import datetime\n",
    "import numpy as np\n",
    "from imblearn.over_sampling import SMOTENC,ADASYN,SMOTE\n",
    "from imblearn.under_sampling import EditedNearestNeighbours, TomekLinks\n",
    "from imblearn.combine import SMOTEENN\n",
    "from tabgan.sampler import GANGenerator\n",
    "from collections import Counter\n",
    "from sklearn.metrics import *\n",
    "from sklearn.tree import DecisionTreeClassifier\n",
    "from sklearn.preprocessing import *"
   ]
  },
  {
   "cell_type": "markdown",
   "id": "b9432a61",
   "metadata": {},
   "source": [
    "Read Data"
   ]
  },
  {
   "cell_type": "code",
   "execution_count": 2,
   "id": "1146aec1",
   "metadata": {},
   "outputs": [
    {
     "data": {
      "text/html": [
       "<div>\n",
       "<style scoped>\n",
       "    .dataframe tbody tr th:only-of-type {\n",
       "        vertical-align: middle;\n",
       "    }\n",
       "\n",
       "    .dataframe tbody tr th {\n",
       "        vertical-align: top;\n",
       "    }\n",
       "\n",
       "    .dataframe thead th {\n",
       "        text-align: right;\n",
       "    }\n",
       "</style>\n",
       "<table border=\"1\" class=\"dataframe\">\n",
       "  <thead>\n",
       "    <tr style=\"text-align: right;\">\n",
       "      <th></th>\n",
       "      <th>timestamp</th>\n",
       "      <th>region</th>\n",
       "      <th>past_temperature</th>\n",
       "      <th>past_humidity</th>\n",
       "      <th>past_rainfall</th>\n",
       "      <th>past_wind_x</th>\n",
       "      <th>past_wind_y</th>\n",
       "      <th>delta_temperature</th>\n",
       "      <th>delta_humidity</th>\n",
       "      <th>delta_wind_x</th>\n",
       "      <th>delta_wind_y</th>\n",
       "      <th>rainfall</th>\n",
       "    </tr>\n",
       "  </thead>\n",
       "  <tbody>\n",
       "    <tr>\n",
       "      <th>0</th>\n",
       "      <td>2017-01-01 03:00:00</td>\n",
       "      <td>central</td>\n",
       "      <td>26.850000</td>\n",
       "      <td>90.300000</td>\n",
       "      <td>0.0</td>\n",
       "      <td>-6.0</td>\n",
       "      <td>-4.0</td>\n",
       "      <td>-0.100000</td>\n",
       "      <td>-1.421085e-14</td>\n",
       "      <td>0.0</td>\n",
       "      <td>0.0</td>\n",
       "      <td>0.0</td>\n",
       "    </tr>\n",
       "    <tr>\n",
       "      <th>1</th>\n",
       "      <td>2017-01-01 03:00:00</td>\n",
       "      <td>east</td>\n",
       "      <td>26.125000</td>\n",
       "      <td>87.433333</td>\n",
       "      <td>0.0</td>\n",
       "      <td>-1.0</td>\n",
       "      <td>1.0</td>\n",
       "      <td>-0.150000</td>\n",
       "      <td>-5.333333e-01</td>\n",
       "      <td>0.0</td>\n",
       "      <td>1.0</td>\n",
       "      <td>0.0</td>\n",
       "    </tr>\n",
       "    <tr>\n",
       "      <th>2</th>\n",
       "      <td>2017-01-01 03:00:00</td>\n",
       "      <td>north</td>\n",
       "      <td>26.000000</td>\n",
       "      <td>87.000000</td>\n",
       "      <td>0.0</td>\n",
       "      <td>-1.0</td>\n",
       "      <td>2.0</td>\n",
       "      <td>-0.100000</td>\n",
       "      <td>4.000000e-01</td>\n",
       "      <td>0.0</td>\n",
       "      <td>0.0</td>\n",
       "      <td>0.0</td>\n",
       "    </tr>\n",
       "    <tr>\n",
       "      <th>3</th>\n",
       "      <td>2017-01-01 03:00:00</td>\n",
       "      <td>north-east</td>\n",
       "      <td>26.000000</td>\n",
       "      <td>89.250000</td>\n",
       "      <td>0.0</td>\n",
       "      <td>-1.0</td>\n",
       "      <td>1.0</td>\n",
       "      <td>0.033333</td>\n",
       "      <td>-1.500000e-01</td>\n",
       "      <td>-2.0</td>\n",
       "      <td>-1.0</td>\n",
       "      <td>0.0</td>\n",
       "    </tr>\n",
       "    <tr>\n",
       "      <th>4</th>\n",
       "      <td>2017-01-01 03:00:00</td>\n",
       "      <td>west</td>\n",
       "      <td>26.100000</td>\n",
       "      <td>87.066667</td>\n",
       "      <td>0.0</td>\n",
       "      <td>-4.0</td>\n",
       "      <td>0.0</td>\n",
       "      <td>-0.140000</td>\n",
       "      <td>8.666667e-01</td>\n",
       "      <td>0.0</td>\n",
       "      <td>0.0</td>\n",
       "      <td>0.0</td>\n",
       "    </tr>\n",
       "    <tr>\n",
       "      <th>...</th>\n",
       "      <td>...</td>\n",
       "      <td>...</td>\n",
       "      <td>...</td>\n",
       "      <td>...</td>\n",
       "      <td>...</td>\n",
       "      <td>...</td>\n",
       "      <td>...</td>\n",
       "      <td>...</td>\n",
       "      <td>...</td>\n",
       "      <td>...</td>\n",
       "      <td>...</td>\n",
       "      <td>...</td>\n",
       "    </tr>\n",
       "    <tr>\n",
       "      <th>197635</th>\n",
       "      <td>2021-12-31 23:00:00</td>\n",
       "      <td>central</td>\n",
       "      <td>23.666667</td>\n",
       "      <td>95.400000</td>\n",
       "      <td>1.0</td>\n",
       "      <td>-1.0</td>\n",
       "      <td>-1.0</td>\n",
       "      <td>-0.766667</td>\n",
       "      <td>-2.150000e+00</td>\n",
       "      <td>-3.0</td>\n",
       "      <td>1.0</td>\n",
       "      <td>1.0</td>\n",
       "    </tr>\n",
       "    <tr>\n",
       "      <th>197636</th>\n",
       "      <td>2021-12-31 23:00:00</td>\n",
       "      <td>east</td>\n",
       "      <td>24.800000</td>\n",
       "      <td>93.000000</td>\n",
       "      <td>1.0</td>\n",
       "      <td>-3.0</td>\n",
       "      <td>0.0</td>\n",
       "      <td>0.100000</td>\n",
       "      <td>-3.000000e-01</td>\n",
       "      <td>-2.0</td>\n",
       "      <td>-2.0</td>\n",
       "      <td>0.0</td>\n",
       "    </tr>\n",
       "    <tr>\n",
       "      <th>197637</th>\n",
       "      <td>2021-12-31 23:00:00</td>\n",
       "      <td>north</td>\n",
       "      <td>24.500000</td>\n",
       "      <td>96.200000</td>\n",
       "      <td>1.0</td>\n",
       "      <td>0.0</td>\n",
       "      <td>-1.0</td>\n",
       "      <td>0.200000</td>\n",
       "      <td>-6.000000e-01</td>\n",
       "      <td>-2.0</td>\n",
       "      <td>-1.0</td>\n",
       "      <td>0.0</td>\n",
       "    </tr>\n",
       "    <tr>\n",
       "      <th>197638</th>\n",
       "      <td>2021-12-31 23:00:00</td>\n",
       "      <td>north-east</td>\n",
       "      <td>24.300000</td>\n",
       "      <td>92.650000</td>\n",
       "      <td>0.0</td>\n",
       "      <td>0.0</td>\n",
       "      <td>-1.0</td>\n",
       "      <td>0.350000</td>\n",
       "      <td>-1.000000e+00</td>\n",
       "      <td>0.0</td>\n",
       "      <td>-3.0</td>\n",
       "      <td>0.0</td>\n",
       "    </tr>\n",
       "    <tr>\n",
       "      <th>197639</th>\n",
       "      <td>2021-12-31 23:00:00</td>\n",
       "      <td>west</td>\n",
       "      <td>24.633333</td>\n",
       "      <td>91.666667</td>\n",
       "      <td>1.0</td>\n",
       "      <td>4.0</td>\n",
       "      <td>0.0</td>\n",
       "      <td>0.033333</td>\n",
       "      <td>-1.833333e+00</td>\n",
       "      <td>2.0</td>\n",
       "      <td>0.0</td>\n",
       "      <td>0.0</td>\n",
       "    </tr>\n",
       "  </tbody>\n",
       "</table>\n",
       "<p>197640 rows × 12 columns</p>\n",
       "</div>"
      ],
      "text/plain": [
       "                  timestamp      region  past_temperature  past_humidity  \\\n",
       "0       2017-01-01 03:00:00     central         26.850000      90.300000   \n",
       "1       2017-01-01 03:00:00        east         26.125000      87.433333   \n",
       "2       2017-01-01 03:00:00       north         26.000000      87.000000   \n",
       "3       2017-01-01 03:00:00  north-east         26.000000      89.250000   \n",
       "4       2017-01-01 03:00:00        west         26.100000      87.066667   \n",
       "...                     ...         ...               ...            ...   \n",
       "197635  2021-12-31 23:00:00     central         23.666667      95.400000   \n",
       "197636  2021-12-31 23:00:00        east         24.800000      93.000000   \n",
       "197637  2021-12-31 23:00:00       north         24.500000      96.200000   \n",
       "197638  2021-12-31 23:00:00  north-east         24.300000      92.650000   \n",
       "197639  2021-12-31 23:00:00        west         24.633333      91.666667   \n",
       "\n",
       "        past_rainfall  past_wind_x  past_wind_y  delta_temperature  \\\n",
       "0                 0.0         -6.0         -4.0          -0.100000   \n",
       "1                 0.0         -1.0          1.0          -0.150000   \n",
       "2                 0.0         -1.0          2.0          -0.100000   \n",
       "3                 0.0         -1.0          1.0           0.033333   \n",
       "4                 0.0         -4.0          0.0          -0.140000   \n",
       "...               ...          ...          ...                ...   \n",
       "197635            1.0         -1.0         -1.0          -0.766667   \n",
       "197636            1.0         -3.0          0.0           0.100000   \n",
       "197637            1.0          0.0         -1.0           0.200000   \n",
       "197638            0.0          0.0         -1.0           0.350000   \n",
       "197639            1.0          4.0          0.0           0.033333   \n",
       "\n",
       "        delta_humidity  delta_wind_x  delta_wind_y  rainfall  \n",
       "0        -1.421085e-14           0.0           0.0       0.0  \n",
       "1        -5.333333e-01           0.0           1.0       0.0  \n",
       "2         4.000000e-01           0.0           0.0       0.0  \n",
       "3        -1.500000e-01          -2.0          -1.0       0.0  \n",
       "4         8.666667e-01           0.0           0.0       0.0  \n",
       "...                ...           ...           ...       ...  \n",
       "197635   -2.150000e+00          -3.0           1.0       1.0  \n",
       "197636   -3.000000e-01          -2.0          -2.0       0.0  \n",
       "197637   -6.000000e-01          -2.0          -1.0       0.0  \n",
       "197638   -1.000000e+00           0.0          -3.0       0.0  \n",
       "197639   -1.833333e+00           2.0           0.0       0.0  \n",
       "\n",
       "[197640 rows x 12 columns]"
      ]
     },
     "execution_count": 2,
     "metadata": {},
     "output_type": "execute_result"
    }
   ],
   "source": [
    "weather_full=pd.read_csv(\"weather_data_2.csv\")\n",
    "weather_full"
   ]
  },
  {
   "cell_type": "markdown",
   "id": "a972877e",
   "metadata": {},
   "source": [
    "Create Time Variables"
   ]
  },
  {
   "cell_type": "code",
   "execution_count": 3,
   "id": "138e6d2f",
   "metadata": {},
   "outputs": [
    {
     "data": {
      "text/html": [
       "<div>\n",
       "<style scoped>\n",
       "    .dataframe tbody tr th:only-of-type {\n",
       "        vertical-align: middle;\n",
       "    }\n",
       "\n",
       "    .dataframe tbody tr th {\n",
       "        vertical-align: top;\n",
       "    }\n",
       "\n",
       "    .dataframe thead th {\n",
       "        text-align: right;\n",
       "    }\n",
       "</style>\n",
       "<table border=\"1\" class=\"dataframe\">\n",
       "  <thead>\n",
       "    <tr style=\"text-align: right;\">\n",
       "      <th></th>\n",
       "      <th>timestamp</th>\n",
       "      <th>region</th>\n",
       "      <th>past_temperature</th>\n",
       "      <th>past_humidity</th>\n",
       "      <th>past_rainfall</th>\n",
       "      <th>past_wind_x</th>\n",
       "      <th>past_wind_y</th>\n",
       "      <th>delta_temperature</th>\n",
       "      <th>delta_humidity</th>\n",
       "      <th>delta_wind_x</th>\n",
       "      <th>delta_wind_y</th>\n",
       "      <th>rainfall</th>\n",
       "      <th>year</th>\n",
       "      <th>quarter</th>\n",
       "      <th>month</th>\n",
       "      <th>day</th>\n",
       "      <th>hour</th>\n",
       "    </tr>\n",
       "  </thead>\n",
       "  <tbody>\n",
       "    <tr>\n",
       "      <th>0</th>\n",
       "      <td>2017-01-01 03:00:00</td>\n",
       "      <td>central</td>\n",
       "      <td>26.850000</td>\n",
       "      <td>90.300000</td>\n",
       "      <td>0.0</td>\n",
       "      <td>-6.0</td>\n",
       "      <td>-4.0</td>\n",
       "      <td>-0.100000</td>\n",
       "      <td>-1.421085e-14</td>\n",
       "      <td>0.0</td>\n",
       "      <td>0.0</td>\n",
       "      <td>0.0</td>\n",
       "      <td>2017</td>\n",
       "      <td>1</td>\n",
       "      <td>1</td>\n",
       "      <td>1</td>\n",
       "      <td>3</td>\n",
       "    </tr>\n",
       "    <tr>\n",
       "      <th>1</th>\n",
       "      <td>2017-01-01 03:00:00</td>\n",
       "      <td>east</td>\n",
       "      <td>26.125000</td>\n",
       "      <td>87.433333</td>\n",
       "      <td>0.0</td>\n",
       "      <td>-1.0</td>\n",
       "      <td>1.0</td>\n",
       "      <td>-0.150000</td>\n",
       "      <td>-5.333333e-01</td>\n",
       "      <td>0.0</td>\n",
       "      <td>1.0</td>\n",
       "      <td>0.0</td>\n",
       "      <td>2017</td>\n",
       "      <td>1</td>\n",
       "      <td>1</td>\n",
       "      <td>1</td>\n",
       "      <td>3</td>\n",
       "    </tr>\n",
       "    <tr>\n",
       "      <th>2</th>\n",
       "      <td>2017-01-01 03:00:00</td>\n",
       "      <td>north</td>\n",
       "      <td>26.000000</td>\n",
       "      <td>87.000000</td>\n",
       "      <td>0.0</td>\n",
       "      <td>-1.0</td>\n",
       "      <td>2.0</td>\n",
       "      <td>-0.100000</td>\n",
       "      <td>4.000000e-01</td>\n",
       "      <td>0.0</td>\n",
       "      <td>0.0</td>\n",
       "      <td>0.0</td>\n",
       "      <td>2017</td>\n",
       "      <td>1</td>\n",
       "      <td>1</td>\n",
       "      <td>1</td>\n",
       "      <td>3</td>\n",
       "    </tr>\n",
       "    <tr>\n",
       "      <th>3</th>\n",
       "      <td>2017-01-01 03:00:00</td>\n",
       "      <td>north-east</td>\n",
       "      <td>26.000000</td>\n",
       "      <td>89.250000</td>\n",
       "      <td>0.0</td>\n",
       "      <td>-1.0</td>\n",
       "      <td>1.0</td>\n",
       "      <td>0.033333</td>\n",
       "      <td>-1.500000e-01</td>\n",
       "      <td>-2.0</td>\n",
       "      <td>-1.0</td>\n",
       "      <td>0.0</td>\n",
       "      <td>2017</td>\n",
       "      <td>1</td>\n",
       "      <td>1</td>\n",
       "      <td>1</td>\n",
       "      <td>3</td>\n",
       "    </tr>\n",
       "    <tr>\n",
       "      <th>4</th>\n",
       "      <td>2017-01-01 03:00:00</td>\n",
       "      <td>west</td>\n",
       "      <td>26.100000</td>\n",
       "      <td>87.066667</td>\n",
       "      <td>0.0</td>\n",
       "      <td>-4.0</td>\n",
       "      <td>0.0</td>\n",
       "      <td>-0.140000</td>\n",
       "      <td>8.666667e-01</td>\n",
       "      <td>0.0</td>\n",
       "      <td>0.0</td>\n",
       "      <td>0.0</td>\n",
       "      <td>2017</td>\n",
       "      <td>1</td>\n",
       "      <td>1</td>\n",
       "      <td>1</td>\n",
       "      <td>3</td>\n",
       "    </tr>\n",
       "    <tr>\n",
       "      <th>...</th>\n",
       "      <td>...</td>\n",
       "      <td>...</td>\n",
       "      <td>...</td>\n",
       "      <td>...</td>\n",
       "      <td>...</td>\n",
       "      <td>...</td>\n",
       "      <td>...</td>\n",
       "      <td>...</td>\n",
       "      <td>...</td>\n",
       "      <td>...</td>\n",
       "      <td>...</td>\n",
       "      <td>...</td>\n",
       "      <td>...</td>\n",
       "      <td>...</td>\n",
       "      <td>...</td>\n",
       "      <td>...</td>\n",
       "      <td>...</td>\n",
       "    </tr>\n",
       "    <tr>\n",
       "      <th>197635</th>\n",
       "      <td>2021-12-31 23:00:00</td>\n",
       "      <td>central</td>\n",
       "      <td>23.666667</td>\n",
       "      <td>95.400000</td>\n",
       "      <td>1.0</td>\n",
       "      <td>-1.0</td>\n",
       "      <td>-1.0</td>\n",
       "      <td>-0.766667</td>\n",
       "      <td>-2.150000e+00</td>\n",
       "      <td>-3.0</td>\n",
       "      <td>1.0</td>\n",
       "      <td>1.0</td>\n",
       "      <td>2021</td>\n",
       "      <td>4</td>\n",
       "      <td>12</td>\n",
       "      <td>31</td>\n",
       "      <td>23</td>\n",
       "    </tr>\n",
       "    <tr>\n",
       "      <th>197636</th>\n",
       "      <td>2021-12-31 23:00:00</td>\n",
       "      <td>east</td>\n",
       "      <td>24.800000</td>\n",
       "      <td>93.000000</td>\n",
       "      <td>1.0</td>\n",
       "      <td>-3.0</td>\n",
       "      <td>0.0</td>\n",
       "      <td>0.100000</td>\n",
       "      <td>-3.000000e-01</td>\n",
       "      <td>-2.0</td>\n",
       "      <td>-2.0</td>\n",
       "      <td>0.0</td>\n",
       "      <td>2021</td>\n",
       "      <td>4</td>\n",
       "      <td>12</td>\n",
       "      <td>31</td>\n",
       "      <td>23</td>\n",
       "    </tr>\n",
       "    <tr>\n",
       "      <th>197637</th>\n",
       "      <td>2021-12-31 23:00:00</td>\n",
       "      <td>north</td>\n",
       "      <td>24.500000</td>\n",
       "      <td>96.200000</td>\n",
       "      <td>1.0</td>\n",
       "      <td>0.0</td>\n",
       "      <td>-1.0</td>\n",
       "      <td>0.200000</td>\n",
       "      <td>-6.000000e-01</td>\n",
       "      <td>-2.0</td>\n",
       "      <td>-1.0</td>\n",
       "      <td>0.0</td>\n",
       "      <td>2021</td>\n",
       "      <td>4</td>\n",
       "      <td>12</td>\n",
       "      <td>31</td>\n",
       "      <td>23</td>\n",
       "    </tr>\n",
       "    <tr>\n",
       "      <th>197638</th>\n",
       "      <td>2021-12-31 23:00:00</td>\n",
       "      <td>north-east</td>\n",
       "      <td>24.300000</td>\n",
       "      <td>92.650000</td>\n",
       "      <td>0.0</td>\n",
       "      <td>0.0</td>\n",
       "      <td>-1.0</td>\n",
       "      <td>0.350000</td>\n",
       "      <td>-1.000000e+00</td>\n",
       "      <td>0.0</td>\n",
       "      <td>-3.0</td>\n",
       "      <td>0.0</td>\n",
       "      <td>2021</td>\n",
       "      <td>4</td>\n",
       "      <td>12</td>\n",
       "      <td>31</td>\n",
       "      <td>23</td>\n",
       "    </tr>\n",
       "    <tr>\n",
       "      <th>197639</th>\n",
       "      <td>2021-12-31 23:00:00</td>\n",
       "      <td>west</td>\n",
       "      <td>24.633333</td>\n",
       "      <td>91.666667</td>\n",
       "      <td>1.0</td>\n",
       "      <td>4.0</td>\n",
       "      <td>0.0</td>\n",
       "      <td>0.033333</td>\n",
       "      <td>-1.833333e+00</td>\n",
       "      <td>2.0</td>\n",
       "      <td>0.0</td>\n",
       "      <td>0.0</td>\n",
       "      <td>2021</td>\n",
       "      <td>4</td>\n",
       "      <td>12</td>\n",
       "      <td>31</td>\n",
       "      <td>23</td>\n",
       "    </tr>\n",
       "  </tbody>\n",
       "</table>\n",
       "<p>197640 rows × 17 columns</p>\n",
       "</div>"
      ],
      "text/plain": [
       "                 timestamp      region  past_temperature  past_humidity  \\\n",
       "0      2017-01-01 03:00:00     central         26.850000      90.300000   \n",
       "1      2017-01-01 03:00:00        east         26.125000      87.433333   \n",
       "2      2017-01-01 03:00:00       north         26.000000      87.000000   \n",
       "3      2017-01-01 03:00:00  north-east         26.000000      89.250000   \n",
       "4      2017-01-01 03:00:00        west         26.100000      87.066667   \n",
       "...                    ...         ...               ...            ...   \n",
       "197635 2021-12-31 23:00:00     central         23.666667      95.400000   \n",
       "197636 2021-12-31 23:00:00        east         24.800000      93.000000   \n",
       "197637 2021-12-31 23:00:00       north         24.500000      96.200000   \n",
       "197638 2021-12-31 23:00:00  north-east         24.300000      92.650000   \n",
       "197639 2021-12-31 23:00:00        west         24.633333      91.666667   \n",
       "\n",
       "        past_rainfall  past_wind_x  past_wind_y  delta_temperature  \\\n",
       "0                 0.0         -6.0         -4.0          -0.100000   \n",
       "1                 0.0         -1.0          1.0          -0.150000   \n",
       "2                 0.0         -1.0          2.0          -0.100000   \n",
       "3                 0.0         -1.0          1.0           0.033333   \n",
       "4                 0.0         -4.0          0.0          -0.140000   \n",
       "...               ...          ...          ...                ...   \n",
       "197635            1.0         -1.0         -1.0          -0.766667   \n",
       "197636            1.0         -3.0          0.0           0.100000   \n",
       "197637            1.0          0.0         -1.0           0.200000   \n",
       "197638            0.0          0.0         -1.0           0.350000   \n",
       "197639            1.0          4.0          0.0           0.033333   \n",
       "\n",
       "        delta_humidity  delta_wind_x  delta_wind_y  rainfall  year  quarter  \\\n",
       "0        -1.421085e-14           0.0           0.0       0.0  2017        1   \n",
       "1        -5.333333e-01           0.0           1.0       0.0  2017        1   \n",
       "2         4.000000e-01           0.0           0.0       0.0  2017        1   \n",
       "3        -1.500000e-01          -2.0          -1.0       0.0  2017        1   \n",
       "4         8.666667e-01           0.0           0.0       0.0  2017        1   \n",
       "...                ...           ...           ...       ...   ...      ...   \n",
       "197635   -2.150000e+00          -3.0           1.0       1.0  2021        4   \n",
       "197636   -3.000000e-01          -2.0          -2.0       0.0  2021        4   \n",
       "197637   -6.000000e-01          -2.0          -1.0       0.0  2021        4   \n",
       "197638   -1.000000e+00           0.0          -3.0       0.0  2021        4   \n",
       "197639   -1.833333e+00           2.0           0.0       0.0  2021        4   \n",
       "\n",
       "        month  day  hour  \n",
       "0           1    1     3  \n",
       "1           1    1     3  \n",
       "2           1    1     3  \n",
       "3           1    1     3  \n",
       "4           1    1     3  \n",
       "...       ...  ...   ...  \n",
       "197635     12   31    23  \n",
       "197636     12   31    23  \n",
       "197637     12   31    23  \n",
       "197638     12   31    23  \n",
       "197639     12   31    23  \n",
       "\n",
       "[197640 rows x 17 columns]"
      ]
     },
     "execution_count": 3,
     "metadata": {},
     "output_type": "execute_result"
    }
   ],
   "source": [
    "weather_full.timestamp=pd.to_datetime(weather_full.timestamp,infer_datetime_format=True)\n",
    "weather_full[\"year\"]=weather_full.timestamp.apply(lambda x: x.year)\n",
    "weather_full[\"quarter\"]=weather_full.timestamp.apply(lambda x: x.quarter)\n",
    "weather_full[\"month\"]=weather_full.timestamp.apply(lambda x: x.month)\n",
    "weather_full[\"day\"]=weather_full.timestamp.apply(lambda x: x.day)\n",
    "weather_full[\"hour\"]=weather_full.timestamp.apply(lambda x: x.hour)\n",
    "weather_full"
   ]
  },
  {
   "cell_type": "code",
   "execution_count": 4,
   "id": "3e506901",
   "metadata": {},
   "outputs": [
    {
     "data": {
      "text/html": [
       "<div>\n",
       "<style scoped>\n",
       "    .dataframe tbody tr th:only-of-type {\n",
       "        vertical-align: middle;\n",
       "    }\n",
       "\n",
       "    .dataframe tbody tr th {\n",
       "        vertical-align: top;\n",
       "    }\n",
       "\n",
       "    .dataframe thead th {\n",
       "        text-align: right;\n",
       "    }\n",
       "</style>\n",
       "<table border=\"1\" class=\"dataframe\">\n",
       "  <thead>\n",
       "    <tr style=\"text-align: right;\">\n",
       "      <th></th>\n",
       "      <th>year</th>\n",
       "      <th>quarter</th>\n",
       "      <th>month</th>\n",
       "      <th>day</th>\n",
       "      <th>hour</th>\n",
       "      <th>timestamp</th>\n",
       "      <th>region</th>\n",
       "      <th>past_temperature</th>\n",
       "      <th>past_humidity</th>\n",
       "      <th>past_rainfall</th>\n",
       "      <th>past_wind_x</th>\n",
       "      <th>past_wind_y</th>\n",
       "      <th>delta_temperature</th>\n",
       "      <th>delta_humidity</th>\n",
       "      <th>delta_wind_x</th>\n",
       "      <th>delta_wind_y</th>\n",
       "      <th>rainfall</th>\n",
       "    </tr>\n",
       "  </thead>\n",
       "  <tbody>\n",
       "    <tr>\n",
       "      <th>0</th>\n",
       "      <td>2017</td>\n",
       "      <td>1</td>\n",
       "      <td>1</td>\n",
       "      <td>1</td>\n",
       "      <td>3</td>\n",
       "      <td>2017-01-01 03:00:00</td>\n",
       "      <td>central</td>\n",
       "      <td>26.850000</td>\n",
       "      <td>90.300000</td>\n",
       "      <td>0.0</td>\n",
       "      <td>-6.0</td>\n",
       "      <td>-4.0</td>\n",
       "      <td>-0.100000</td>\n",
       "      <td>-1.421085e-14</td>\n",
       "      <td>0.0</td>\n",
       "      <td>0.0</td>\n",
       "      <td>0.0</td>\n",
       "    </tr>\n",
       "    <tr>\n",
       "      <th>1</th>\n",
       "      <td>2017</td>\n",
       "      <td>1</td>\n",
       "      <td>1</td>\n",
       "      <td>1</td>\n",
       "      <td>3</td>\n",
       "      <td>2017-01-01 03:00:00</td>\n",
       "      <td>east</td>\n",
       "      <td>26.125000</td>\n",
       "      <td>87.433333</td>\n",
       "      <td>0.0</td>\n",
       "      <td>-1.0</td>\n",
       "      <td>1.0</td>\n",
       "      <td>-0.150000</td>\n",
       "      <td>-5.333333e-01</td>\n",
       "      <td>0.0</td>\n",
       "      <td>1.0</td>\n",
       "      <td>0.0</td>\n",
       "    </tr>\n",
       "    <tr>\n",
       "      <th>2</th>\n",
       "      <td>2017</td>\n",
       "      <td>1</td>\n",
       "      <td>1</td>\n",
       "      <td>1</td>\n",
       "      <td>3</td>\n",
       "      <td>2017-01-01 03:00:00</td>\n",
       "      <td>north</td>\n",
       "      <td>26.000000</td>\n",
       "      <td>87.000000</td>\n",
       "      <td>0.0</td>\n",
       "      <td>-1.0</td>\n",
       "      <td>2.0</td>\n",
       "      <td>-0.100000</td>\n",
       "      <td>4.000000e-01</td>\n",
       "      <td>0.0</td>\n",
       "      <td>0.0</td>\n",
       "      <td>0.0</td>\n",
       "    </tr>\n",
       "    <tr>\n",
       "      <th>3</th>\n",
       "      <td>2017</td>\n",
       "      <td>1</td>\n",
       "      <td>1</td>\n",
       "      <td>1</td>\n",
       "      <td>3</td>\n",
       "      <td>2017-01-01 03:00:00</td>\n",
       "      <td>north-east</td>\n",
       "      <td>26.000000</td>\n",
       "      <td>89.250000</td>\n",
       "      <td>0.0</td>\n",
       "      <td>-1.0</td>\n",
       "      <td>1.0</td>\n",
       "      <td>0.033333</td>\n",
       "      <td>-1.500000e-01</td>\n",
       "      <td>-2.0</td>\n",
       "      <td>-1.0</td>\n",
       "      <td>0.0</td>\n",
       "    </tr>\n",
       "    <tr>\n",
       "      <th>4</th>\n",
       "      <td>2017</td>\n",
       "      <td>1</td>\n",
       "      <td>1</td>\n",
       "      <td>1</td>\n",
       "      <td>3</td>\n",
       "      <td>2017-01-01 03:00:00</td>\n",
       "      <td>west</td>\n",
       "      <td>26.100000</td>\n",
       "      <td>87.066667</td>\n",
       "      <td>0.0</td>\n",
       "      <td>-4.0</td>\n",
       "      <td>0.0</td>\n",
       "      <td>-0.140000</td>\n",
       "      <td>8.666667e-01</td>\n",
       "      <td>0.0</td>\n",
       "      <td>0.0</td>\n",
       "      <td>0.0</td>\n",
       "    </tr>\n",
       "    <tr>\n",
       "      <th>...</th>\n",
       "      <td>...</td>\n",
       "      <td>...</td>\n",
       "      <td>...</td>\n",
       "      <td>...</td>\n",
       "      <td>...</td>\n",
       "      <td>...</td>\n",
       "      <td>...</td>\n",
       "      <td>...</td>\n",
       "      <td>...</td>\n",
       "      <td>...</td>\n",
       "      <td>...</td>\n",
       "      <td>...</td>\n",
       "      <td>...</td>\n",
       "      <td>...</td>\n",
       "      <td>...</td>\n",
       "      <td>...</td>\n",
       "      <td>...</td>\n",
       "    </tr>\n",
       "    <tr>\n",
       "      <th>197635</th>\n",
       "      <td>2021</td>\n",
       "      <td>4</td>\n",
       "      <td>12</td>\n",
       "      <td>31</td>\n",
       "      <td>23</td>\n",
       "      <td>2021-12-31 23:00:00</td>\n",
       "      <td>central</td>\n",
       "      <td>23.666667</td>\n",
       "      <td>95.400000</td>\n",
       "      <td>1.0</td>\n",
       "      <td>-1.0</td>\n",
       "      <td>-1.0</td>\n",
       "      <td>-0.766667</td>\n",
       "      <td>-2.150000e+00</td>\n",
       "      <td>-3.0</td>\n",
       "      <td>1.0</td>\n",
       "      <td>1.0</td>\n",
       "    </tr>\n",
       "    <tr>\n",
       "      <th>197636</th>\n",
       "      <td>2021</td>\n",
       "      <td>4</td>\n",
       "      <td>12</td>\n",
       "      <td>31</td>\n",
       "      <td>23</td>\n",
       "      <td>2021-12-31 23:00:00</td>\n",
       "      <td>east</td>\n",
       "      <td>24.800000</td>\n",
       "      <td>93.000000</td>\n",
       "      <td>1.0</td>\n",
       "      <td>-3.0</td>\n",
       "      <td>0.0</td>\n",
       "      <td>0.100000</td>\n",
       "      <td>-3.000000e-01</td>\n",
       "      <td>-2.0</td>\n",
       "      <td>-2.0</td>\n",
       "      <td>0.0</td>\n",
       "    </tr>\n",
       "    <tr>\n",
       "      <th>197637</th>\n",
       "      <td>2021</td>\n",
       "      <td>4</td>\n",
       "      <td>12</td>\n",
       "      <td>31</td>\n",
       "      <td>23</td>\n",
       "      <td>2021-12-31 23:00:00</td>\n",
       "      <td>north</td>\n",
       "      <td>24.500000</td>\n",
       "      <td>96.200000</td>\n",
       "      <td>1.0</td>\n",
       "      <td>0.0</td>\n",
       "      <td>-1.0</td>\n",
       "      <td>0.200000</td>\n",
       "      <td>-6.000000e-01</td>\n",
       "      <td>-2.0</td>\n",
       "      <td>-1.0</td>\n",
       "      <td>0.0</td>\n",
       "    </tr>\n",
       "    <tr>\n",
       "      <th>197638</th>\n",
       "      <td>2021</td>\n",
       "      <td>4</td>\n",
       "      <td>12</td>\n",
       "      <td>31</td>\n",
       "      <td>23</td>\n",
       "      <td>2021-12-31 23:00:00</td>\n",
       "      <td>north-east</td>\n",
       "      <td>24.300000</td>\n",
       "      <td>92.650000</td>\n",
       "      <td>0.0</td>\n",
       "      <td>0.0</td>\n",
       "      <td>-1.0</td>\n",
       "      <td>0.350000</td>\n",
       "      <td>-1.000000e+00</td>\n",
       "      <td>0.0</td>\n",
       "      <td>-3.0</td>\n",
       "      <td>0.0</td>\n",
       "    </tr>\n",
       "    <tr>\n",
       "      <th>197639</th>\n",
       "      <td>2021</td>\n",
       "      <td>4</td>\n",
       "      <td>12</td>\n",
       "      <td>31</td>\n",
       "      <td>23</td>\n",
       "      <td>2021-12-31 23:00:00</td>\n",
       "      <td>west</td>\n",
       "      <td>24.633333</td>\n",
       "      <td>91.666667</td>\n",
       "      <td>1.0</td>\n",
       "      <td>4.0</td>\n",
       "      <td>0.0</td>\n",
       "      <td>0.033333</td>\n",
       "      <td>-1.833333e+00</td>\n",
       "      <td>2.0</td>\n",
       "      <td>0.0</td>\n",
       "      <td>0.0</td>\n",
       "    </tr>\n",
       "  </tbody>\n",
       "</table>\n",
       "<p>197640 rows × 17 columns</p>\n",
       "</div>"
      ],
      "text/plain": [
       "        year  quarter  month  day  hour           timestamp      region  \\\n",
       "0       2017        1      1    1     3 2017-01-01 03:00:00     central   \n",
       "1       2017        1      1    1     3 2017-01-01 03:00:00        east   \n",
       "2       2017        1      1    1     3 2017-01-01 03:00:00       north   \n",
       "3       2017        1      1    1     3 2017-01-01 03:00:00  north-east   \n",
       "4       2017        1      1    1     3 2017-01-01 03:00:00        west   \n",
       "...      ...      ...    ...  ...   ...                 ...         ...   \n",
       "197635  2021        4     12   31    23 2021-12-31 23:00:00     central   \n",
       "197636  2021        4     12   31    23 2021-12-31 23:00:00        east   \n",
       "197637  2021        4     12   31    23 2021-12-31 23:00:00       north   \n",
       "197638  2021        4     12   31    23 2021-12-31 23:00:00  north-east   \n",
       "197639  2021        4     12   31    23 2021-12-31 23:00:00        west   \n",
       "\n",
       "        past_temperature  past_humidity  past_rainfall  past_wind_x  \\\n",
       "0              26.850000      90.300000            0.0         -6.0   \n",
       "1              26.125000      87.433333            0.0         -1.0   \n",
       "2              26.000000      87.000000            0.0         -1.0   \n",
       "3              26.000000      89.250000            0.0         -1.0   \n",
       "4              26.100000      87.066667            0.0         -4.0   \n",
       "...                  ...            ...            ...          ...   \n",
       "197635         23.666667      95.400000            1.0         -1.0   \n",
       "197636         24.800000      93.000000            1.0         -3.0   \n",
       "197637         24.500000      96.200000            1.0          0.0   \n",
       "197638         24.300000      92.650000            0.0          0.0   \n",
       "197639         24.633333      91.666667            1.0          4.0   \n",
       "\n",
       "        past_wind_y  delta_temperature  delta_humidity  delta_wind_x  \\\n",
       "0              -4.0          -0.100000   -1.421085e-14           0.0   \n",
       "1               1.0          -0.150000   -5.333333e-01           0.0   \n",
       "2               2.0          -0.100000    4.000000e-01           0.0   \n",
       "3               1.0           0.033333   -1.500000e-01          -2.0   \n",
       "4               0.0          -0.140000    8.666667e-01           0.0   \n",
       "...             ...                ...             ...           ...   \n",
       "197635         -1.0          -0.766667   -2.150000e+00          -3.0   \n",
       "197636          0.0           0.100000   -3.000000e-01          -2.0   \n",
       "197637         -1.0           0.200000   -6.000000e-01          -2.0   \n",
       "197638         -1.0           0.350000   -1.000000e+00           0.0   \n",
       "197639          0.0           0.033333   -1.833333e+00           2.0   \n",
       "\n",
       "        delta_wind_y  rainfall  \n",
       "0                0.0       0.0  \n",
       "1                1.0       0.0  \n",
       "2                0.0       0.0  \n",
       "3               -1.0       0.0  \n",
       "4                0.0       0.0  \n",
       "...              ...       ...  \n",
       "197635           1.0       1.0  \n",
       "197636          -2.0       0.0  \n",
       "197637          -1.0       0.0  \n",
       "197638          -3.0       0.0  \n",
       "197639           0.0       0.0  \n",
       "\n",
       "[197640 rows x 17 columns]"
      ]
     },
     "execution_count": 4,
     "metadata": {},
     "output_type": "execute_result"
    }
   ],
   "source": [
    "weather_full=pd.concat([weather_full.iloc[:,12:],weather_full.iloc[:,:11],weather_full.iloc[:,11:12]],axis=1)\n",
    "weather_full"
   ]
  },
  {
   "cell_type": "markdown",
   "id": "bf7b24c4",
   "metadata": {},
   "source": [
    "Train-test Splits"
   ]
  },
  {
   "cell_type": "code",
   "execution_count": 5,
   "id": "50f24b1c",
   "metadata": {},
   "outputs": [],
   "source": [
    "runtimes=list(pd.date_range('2017-01-01 00:00:00',\n",
    "                            '2021-12-31 23:59:59',\n",
    "                            freq='60T'))\n",
    "training_runtimes=runtimes[:int(0.8*len(runtimes))]\n",
    "X_train = weather_full[weather_full[\"timestamp\"].isin(training_runtimes)].iloc[:,:-1]\n",
    "X_test = weather_full[~weather_full[\"timestamp\"].isin(training_runtimes)].iloc[:,:-1]\n",
    "y_train = weather_full[weather_full[\"timestamp\"].isin(training_runtimes)][[\"rainfall\"]]\n",
    "y_test = weather_full[~weather_full[\"timestamp\"].isin(training_runtimes)][[\"rainfall\"]]\n",
    "X_train=X_train.drop(columns=[\"timestamp\"])\n",
    "X_test=X_test.drop(columns=[\"timestamp\"])"
   ]
  },
  {
   "cell_type": "markdown",
   "id": "bf8e59f1",
   "metadata": {},
   "source": [
    "## Section 1: No Sampling"
   ]
  },
  {
   "cell_type": "markdown",
   "id": "9e8dc9d1",
   "metadata": {},
   "source": [
    "Dummifying and Scaling"
   ]
  },
  {
   "cell_type": "code",
   "execution_count": 6,
   "id": "bdc0ddaa",
   "metadata": {},
   "outputs": [],
   "source": [
    "temp_df=pd.concat([X_train,X_test],axis=0)\n",
    "temp_df=pd.get_dummies(temp_df, columns=[\"region\"], prefix=[\"region\"])\n",
    "scaler=StandardScaler()\n",
    "temp_df.iloc[:,5:14]=scaler.fit_transform(temp_df.iloc[:,5:14])\n",
    "X_train = temp_df.iloc[:len(X_train),:]\n",
    "X_test = temp_df.iloc[len(X_train):,:]\n",
    "del temp_df"
   ]
  },
  {
   "cell_type": "markdown",
   "id": "5894042f",
   "metadata": {},
   "source": [
    "Vanilla Decistion Tree used as a standard"
   ]
  },
  {
   "cell_type": "code",
   "execution_count": 7,
   "id": "79812902",
   "metadata": {},
   "outputs": [
    {
     "name": "stdout",
     "output_type": "stream",
     "text": [
      "F1: 0.32171648269874736\n",
      "ROC AUC: 0.6297129573035326\n"
     ]
    }
   ],
   "source": [
    "clf=DecisionTreeClassifier(random_state=0)\n",
    "clf.fit(X_train,y_train)\n",
    "y_pred=clf.predict(X_test)\n",
    "print(\"F1:\",f1_score(y_test, y_pred))\n",
    "print(\"ROC AUC:\",roc_auc_score(y_test, clf.predict_proba(X_test)[:, 1]))"
   ]
  },
  {
   "cell_type": "code",
   "execution_count": 8,
   "id": "0b3f235d",
   "metadata": {},
   "outputs": [
    {
     "data": {
      "text/plain": [
       "0.2579864727021275"
      ]
     },
     "execution_count": 8,
     "metadata": {},
     "output_type": "execute_result"
    }
   ],
   "source": [
    "from sklearn.model_selection import *\n",
    "cross_val_score(clf, X_train, y_train, scoring=\"f1\",cv=10).mean()"
   ]
  },
  {
   "cell_type": "markdown",
   "id": "a76ec96b",
   "metadata": {},
   "source": [
    "## Section 2: SMOTE-NC"
   ]
  },
  {
   "cell_type": "markdown",
   "id": "c26f69db",
   "metadata": {},
   "source": [
    "Redo the steps:\n",
    "1. Train-test split\n",
    "2. Resampling\n",
    "3. Dummyfying and Normalization\n",
    "4. Modelling"
   ]
  },
  {
   "cell_type": "code",
   "execution_count": 9,
   "id": "b579edd9",
   "metadata": {},
   "outputs": [],
   "source": [
    "runtimes=list(pd.date_range('2017-01-01 00:00:00',\n",
    "                            '2021-12-31 23:59:59',\n",
    "                            freq='60T'))\n",
    "training_runtimes=runtimes[:int(0.8*len(runtimes))]\n",
    "X_train = weather_full[weather_full[\"timestamp\"].isin(training_runtimes)].iloc[:,:-1]\n",
    "X_test = weather_full[~weather_full[\"timestamp\"].isin(training_runtimes)].iloc[:,:-1]\n",
    "y_train = weather_full[weather_full[\"timestamp\"].isin(training_runtimes)][[\"rainfall\"]]\n",
    "y_test = weather_full[~weather_full[\"timestamp\"].isin(training_runtimes)][[\"rainfall\"]]\n",
    "X_train=X_train.drop(columns=[\"timestamp\"])\n",
    "X_test=X_test.drop(columns=[\"timestamp\"])"
   ]
  },
  {
   "cell_type": "code",
   "execution_count": 10,
   "id": "eac50555",
   "metadata": {},
   "outputs": [
    {
     "name": "stdout",
     "output_type": "stream",
     "text": [
      "Counter({0.0: 143549, 1.0: 12625})\n"
     ]
    },
    {
     "data": {
      "text/plain": [
       "Counter({0.0: 143549, 1.0: 143549})"
      ]
     },
     "execution_count": 10,
     "metadata": {},
     "output_type": "execute_result"
    }
   ],
   "source": [
    "print(Counter(y_train.rainfall))\n",
    "smote_nc = SMOTENC(categorical_features=[5], random_state=0)\n",
    "X_resampled, y_resampled = smote_nc.fit_resample(X_train, y_train.rainfall)\n",
    "Counter(y_resampled)"
   ]
  },
  {
   "cell_type": "code",
   "execution_count": 11,
   "id": "0cce49a2",
   "metadata": {},
   "outputs": [],
   "source": [
    "temp_df=pd.concat([X_resampled,X_test],axis=0)\n",
    "temp_df=pd.get_dummies(temp_df, columns=[\"region\"], prefix=[\"region\"])\n",
    "scaler=StandardScaler()\n",
    "temp_df.iloc[:,5:14]=scaler.fit_transform(temp_df.iloc[:,5:14])\n",
    "X_resampled = temp_df.iloc[:len(X_resampled),:]\n",
    "X_test = temp_df.iloc[len(X_resampled):,:]\n",
    "del temp_df"
   ]
  },
  {
   "cell_type": "code",
   "execution_count": 12,
   "id": "80511be0",
   "metadata": {},
   "outputs": [
    {
     "name": "stdout",
     "output_type": "stream",
     "text": [
      "F1: 0.3363921477523522\n",
      "ROC AUC: 0.6440781560699232\n"
     ]
    }
   ],
   "source": [
    "clf=DecisionTreeClassifier(random_state=0)\n",
    "clf.fit(X_resampled,y_resampled)\n",
    "y_pred=clf.predict(X_test)\n",
    "print(\"F1:\",f1_score(y_test, y_pred))\n",
    "print(\"ROC AUC:\",roc_auc_score(y_test, clf.predict_proba(X_test)[:, 1]))"
   ]
  },
  {
   "cell_type": "code",
   "execution_count": 14,
   "id": "dd35ebf6",
   "metadata": {},
   "outputs": [
    {
     "data": {
      "text/plain": [
       "0.8158130709095193"
      ]
     },
     "execution_count": 14,
     "metadata": {},
     "output_type": "execute_result"
    }
   ],
   "source": [
    "cross_val_score(clf, X_resampled, y_resampled, scoring=\"f1\",cv=10).mean()"
   ]
  },
  {
   "cell_type": "markdown",
   "id": "bfe293e6",
   "metadata": {},
   "source": [
    "Result: Improved Slightly"
   ]
  },
  {
   "cell_type": "markdown",
   "id": "fced7fde",
   "metadata": {},
   "source": [
    "## Section 3: SMOTE"
   ]
  },
  {
   "cell_type": "markdown",
   "id": "65facc60",
   "metadata": {},
   "source": [
    "Redo the steps:\n",
    "1. Train-test split\n",
    "2. Dummifying first since normal SMOTE cannot handle categorical\n",
    "3. Resampling\n",
    "3. Normalization\n",
    "4. Modelling"
   ]
  },
  {
   "cell_type": "code",
   "execution_count": 15,
   "id": "68f55097",
   "metadata": {},
   "outputs": [],
   "source": [
    "runtimes=list(pd.date_range('2017-01-01 00:00:00',\n",
    "                            '2021-12-31 23:59:59',\n",
    "                            freq='60T'))\n",
    "training_runtimes=runtimes[:int(0.8*len(runtimes))]\n",
    "X_train = weather_full[weather_full[\"timestamp\"].isin(training_runtimes)].iloc[:,:-1]\n",
    "X_test = weather_full[~weather_full[\"timestamp\"].isin(training_runtimes)].iloc[:,:-1]\n",
    "y_train = weather_full[weather_full[\"timestamp\"].isin(training_runtimes)][[\"rainfall\"]]\n",
    "y_test = weather_full[~weather_full[\"timestamp\"].isin(training_runtimes)][[\"rainfall\"]]\n",
    "X_train=X_train.drop(columns=[\"timestamp\"])\n",
    "X_test=X_test.drop(columns=[\"timestamp\"])"
   ]
  },
  {
   "cell_type": "code",
   "execution_count": 16,
   "id": "a19d6ded",
   "metadata": {},
   "outputs": [],
   "source": [
    "temp_df=pd.concat([X_train,X_test],axis=0)\n",
    "temp_df=pd.get_dummies(temp_df, columns=[\"region\"], prefix=[\"region\"])\n",
    "X_train = temp_df.iloc[:len(X_train),:]\n",
    "X_test = temp_df.iloc[len(X_train):,:]\n",
    "del temp_df"
   ]
  },
  {
   "cell_type": "code",
   "execution_count": 17,
   "id": "ddd28fba",
   "metadata": {},
   "outputs": [
    {
     "name": "stdout",
     "output_type": "stream",
     "text": [
      "Counter({0.0: 143549, 1.0: 12625})\n"
     ]
    },
    {
     "data": {
      "text/plain": [
       "Counter({0.0: 143549, 1.0: 143549})"
      ]
     },
     "execution_count": 17,
     "metadata": {},
     "output_type": "execute_result"
    }
   ],
   "source": [
    "print(Counter(y_train.rainfall))\n",
    "smote = SMOTE(random_state=0)\n",
    "X_resampled, y_resampled = smote.fit_resample(X_train, y_train.rainfall)\n",
    "Counter(y_resampled)"
   ]
  },
  {
   "cell_type": "code",
   "execution_count": 18,
   "id": "c08e12fe",
   "metadata": {},
   "outputs": [],
   "source": [
    "temp_df=pd.concat([X_resampled,X_test],axis=0)\n",
    "scaler=StandardScaler()\n",
    "temp_df.iloc[:,5:14]=scaler.fit_transform(temp_df.iloc[:,5:14])\n",
    "X_resampled = temp_df.iloc[:len(X_resampled),:]\n",
    "X_test = temp_df.iloc[len(X_resampled):,:]\n",
    "del temp_df"
   ]
  },
  {
   "cell_type": "code",
   "execution_count": 19,
   "id": "3d398d30",
   "metadata": {},
   "outputs": [
    {
     "name": "stdout",
     "output_type": "stream",
     "text": [
      "F1: 0.3398565698310441\n",
      "ROC AUC: 0.6419958609367404\n"
     ]
    }
   ],
   "source": [
    "clf=DecisionTreeClassifier(random_state=0)\n",
    "clf.fit(X_resampled,y_resampled)\n",
    "y_pred=clf.predict(X_test)\n",
    "print(\"F1:\",f1_score(y_test, y_pred))\n",
    "print(\"ROC AUC:\",roc_auc_score(y_test, clf.predict_proba(X_test)[:, 1]))"
   ]
  },
  {
   "cell_type": "code",
   "execution_count": 20,
   "id": "f4e97391",
   "metadata": {},
   "outputs": [
    {
     "data": {
      "text/plain": [
       "0.8468453314116507"
      ]
     },
     "execution_count": 20,
     "metadata": {},
     "output_type": "execute_result"
    }
   ],
   "source": [
    "cross_val_score(clf, X_resampled, y_resampled, scoring=\"f1\",cv=10).mean()"
   ]
  },
  {
   "cell_type": "markdown",
   "id": "b6b9667f",
   "metadata": {},
   "source": [
    "Result: Comparable  to (but slightly better than) SMOTE-NC"
   ]
  },
  {
   "cell_type": "markdown",
   "id": "0e71a309",
   "metadata": {},
   "source": [
    "## Section 4: ADASYN"
   ]
  },
  {
   "cell_type": "markdown",
   "id": "c3b81c47",
   "metadata": {},
   "source": [
    "Redo the steps:\n",
    "1. Train-test split\n",
    "2. Dummifying first since ADASYN cannot handle categorical\n",
    "3. Resampling\n",
    "3. Normalization\n",
    "4. Modelling"
   ]
  },
  {
   "cell_type": "code",
   "execution_count": 21,
   "id": "bab90e58",
   "metadata": {},
   "outputs": [],
   "source": [
    "runtimes=list(pd.date_range('2017-01-01 00:00:00',\n",
    "                            '2021-12-31 23:59:59',\n",
    "                            freq='60T'))\n",
    "training_runtimes=runtimes[:int(0.8*len(runtimes))]\n",
    "X_train = weather_full[weather_full[\"timestamp\"].isin(training_runtimes)].iloc[:,:-1]\n",
    "X_test = weather_full[~weather_full[\"timestamp\"].isin(training_runtimes)].iloc[:,:-1]\n",
    "y_train = weather_full[weather_full[\"timestamp\"].isin(training_runtimes)][[\"rainfall\"]]\n",
    "y_test = weather_full[~weather_full[\"timestamp\"].isin(training_runtimes)][[\"rainfall\"]]\n",
    "X_train=X_train.drop(columns=[\"timestamp\"])\n",
    "X_test=X_test.drop(columns=[\"timestamp\"])"
   ]
  },
  {
   "cell_type": "code",
   "execution_count": 22,
   "id": "30692668",
   "metadata": {},
   "outputs": [],
   "source": [
    "temp_df=pd.concat([X_train,X_test],axis=0)\n",
    "temp_df=pd.get_dummies(temp_df, columns=[\"region\"], prefix=[\"region\"])\n",
    "X_train = temp_df.iloc[:len(X_train),:]\n",
    "X_test = temp_df.iloc[len(X_train):,:]\n",
    "del temp_df"
   ]
  },
  {
   "cell_type": "code",
   "execution_count": 23,
   "id": "f37098d6",
   "metadata": {},
   "outputs": [
    {
     "name": "stdout",
     "output_type": "stream",
     "text": [
      "Counter({0.0: 143549, 1.0: 12625})\n"
     ]
    },
    {
     "data": {
      "text/plain": [
       "Counter({0.0: 143549, 1.0: 142540})"
      ]
     },
     "execution_count": 23,
     "metadata": {},
     "output_type": "execute_result"
    }
   ],
   "source": [
    "print(Counter(y_train.rainfall))\n",
    "adasyn = ADASYN(random_state=0)\n",
    "X_resampled, y_resampled = adasyn.fit_resample(X_train, y_train.rainfall)\n",
    "Counter(y_resampled)"
   ]
  },
  {
   "cell_type": "code",
   "execution_count": 24,
   "id": "529cffe9",
   "metadata": {},
   "outputs": [],
   "source": [
    "temp_df=pd.concat([X_resampled,X_test],axis=0)\n",
    "scaler=StandardScaler()\n",
    "temp_df.iloc[:,5:14]=scaler.fit_transform(temp_df.iloc[:,5:14])\n",
    "X_resampled = temp_df.iloc[:len(X_resampled),:]\n",
    "X_test = temp_df.iloc[len(X_resampled):,:]\n",
    "del temp_df"
   ]
  },
  {
   "cell_type": "code",
   "execution_count": 25,
   "id": "9753578c",
   "metadata": {},
   "outputs": [
    {
     "name": "stdout",
     "output_type": "stream",
     "text": [
      "F1: 0.3342472285135296\n",
      "ROC AUC: 0.6404153621112625\n"
     ]
    }
   ],
   "source": [
    "clf=DecisionTreeClassifier(random_state=0)\n",
    "clf.fit(X_resampled,y_resampled)\n",
    "y_pred=clf.predict(X_test)\n",
    "print(\"F1:\",f1_score(y_test, y_pred))\n",
    "print(\"ROC AUC:\",roc_auc_score(y_test, clf.predict_proba(X_test)[:, 1]))"
   ]
  },
  {
   "cell_type": "code",
   "execution_count": 26,
   "id": "63c1000b",
   "metadata": {},
   "outputs": [
    {
     "data": {
      "text/plain": [
       "0.8482891122662475"
      ]
     },
     "execution_count": 26,
     "metadata": {},
     "output_type": "execute_result"
    }
   ],
   "source": [
    "cross_val_score(clf, X_resampled, y_resampled, scoring=\"f1\",cv=10).mean()"
   ]
  },
  {
   "cell_type": "markdown",
   "id": "a7a389d6",
   "metadata": {},
   "source": [
    "Result: Comparable to (but slightly worse than) SMOTE"
   ]
  },
  {
   "cell_type": "markdown",
   "id": "139df374",
   "metadata": {},
   "source": [
    "## Section 5: Edited Nearest Neighbors (Undersampling)"
   ]
  },
  {
   "cell_type": "markdown",
   "id": "f2f70b29",
   "metadata": {},
   "source": [
    "Redo the steps:\n",
    "1. Train-test split\n",
    "2. Dummifying first since ENN cannot handle categorical\n",
    "3. Resampling\n",
    "3. Normalization\n",
    "4. Modelling"
   ]
  },
  {
   "cell_type": "code",
   "execution_count": 27,
   "id": "39e290d3",
   "metadata": {},
   "outputs": [],
   "source": [
    "runtimes=list(pd.date_range('2017-01-01 00:00:00',\n",
    "                            '2021-12-31 23:59:59',\n",
    "                            freq='60T'))\n",
    "training_runtimes=runtimes[:int(0.8*len(runtimes))]\n",
    "X_train = weather_full[weather_full[\"timestamp\"].isin(training_runtimes)].iloc[:,:-1]\n",
    "X_test = weather_full[~weather_full[\"timestamp\"].isin(training_runtimes)].iloc[:,:-1]\n",
    "y_train = weather_full[weather_full[\"timestamp\"].isin(training_runtimes)][[\"rainfall\"]]\n",
    "y_test = weather_full[~weather_full[\"timestamp\"].isin(training_runtimes)][[\"rainfall\"]]\n",
    "X_train=X_train.drop(columns=[\"timestamp\"])\n",
    "X_test=X_test.drop(columns=[\"timestamp\"])"
   ]
  },
  {
   "cell_type": "code",
   "execution_count": 28,
   "id": "66fe75c5",
   "metadata": {},
   "outputs": [],
   "source": [
    "temp_df=pd.concat([X_train,X_test],axis=0)\n",
    "temp_df=pd.get_dummies(temp_df, columns=[\"region\"], prefix=[\"region\"])\n",
    "X_train = temp_df.iloc[:len(X_train),:]\n",
    "X_test = temp_df.iloc[len(X_train):,:]\n",
    "del temp_df"
   ]
  },
  {
   "cell_type": "code",
   "execution_count": 29,
   "id": "20fe8a52",
   "metadata": {},
   "outputs": [
    {
     "name": "stdout",
     "output_type": "stream",
     "text": [
      "Counter({0.0: 143549, 1.0: 12625})\n"
     ]
    },
    {
     "data": {
      "text/plain": [
       "Counter({0.0: 125275, 1.0: 12625})"
      ]
     },
     "execution_count": 29,
     "metadata": {},
     "output_type": "execute_result"
    }
   ],
   "source": [
    "print(Counter(y_train.rainfall))\n",
    "enn = EditedNearestNeighbours()\n",
    "X_resampled, y_resampled = enn.fit_resample(X_train, y_train.rainfall)\n",
    "Counter(y_resampled)"
   ]
  },
  {
   "cell_type": "code",
   "execution_count": 30,
   "id": "1eff3907",
   "metadata": {},
   "outputs": [],
   "source": [
    "temp_df=pd.concat([X_resampled,X_test],axis=0)\n",
    "scaler=StandardScaler()\n",
    "temp_df.iloc[:,5:14]=scaler.fit_transform(temp_df.iloc[:,5:14])\n",
    "X_resampled = temp_df.iloc[:len(X_resampled),:]\n",
    "X_test = temp_df.iloc[len(X_resampled):,:]\n",
    "del temp_df"
   ]
  },
  {
   "cell_type": "code",
   "execution_count": 31,
   "id": "bc26ce55",
   "metadata": {},
   "outputs": [
    {
     "name": "stdout",
     "output_type": "stream",
     "text": [
      "F1: 0.3898815931108719\n",
      "ROC AUC: 0.6870064489465769\n"
     ]
    }
   ],
   "source": [
    "clf=DecisionTreeClassifier(random_state=0)\n",
    "clf.fit(X_resampled,y_resampled)\n",
    "y_pred=clf.predict(X_test)\n",
    "print(\"F1:\",f1_score(y_test, y_pred))\n",
    "print(\"ROC AUC:\",roc_auc_score(y_test, clf.predict_proba(X_test)[:, 1]))"
   ]
  },
  {
   "cell_type": "code",
   "execution_count": 32,
   "id": "b9fa0083",
   "metadata": {},
   "outputs": [
    {
     "data": {
      "text/plain": [
       "0.3474141094676732"
      ]
     },
     "execution_count": 32,
     "metadata": {},
     "output_type": "execute_result"
    }
   ],
   "source": [
    "cross_val_score(clf, X_resampled, y_resampled, scoring=\"f1\",cv=10).mean()"
   ]
  },
  {
   "cell_type": "markdown",
   "id": "0599f8f0",
   "metadata": {},
   "source": [
    "Result: Improvement over Oversampling Methods in the test results but worse than SMOTE variants in training."
   ]
  },
  {
   "cell_type": "markdown",
   "id": "51828a47",
   "metadata": {},
   "source": [
    "## Section 6: TOMEK Links"
   ]
  },
  {
   "cell_type": "markdown",
   "id": "5d53cfce",
   "metadata": {},
   "source": [
    "Redo the steps:\n",
    "1. Train-test split\n",
    "2. Dummifying first since Tomek Links cannot handle categorical\n",
    "3. Resampling\n",
    "3. Normalization\n",
    "4. Modelling"
   ]
  },
  {
   "cell_type": "code",
   "execution_count": 33,
   "id": "469051b9",
   "metadata": {},
   "outputs": [],
   "source": [
    "runtimes=list(pd.date_range('2017-01-01 00:00:00',\n",
    "                            '2021-12-31 23:59:59',\n",
    "                            freq='60T'))\n",
    "training_runtimes=runtimes[:int(0.8*len(runtimes))]\n",
    "X_train = weather_full[weather_full[\"timestamp\"].isin(training_runtimes)].iloc[:,:-1]\n",
    "X_test = weather_full[~weather_full[\"timestamp\"].isin(training_runtimes)].iloc[:,:-1]\n",
    "y_train = weather_full[weather_full[\"timestamp\"].isin(training_runtimes)][[\"rainfall\"]]\n",
    "y_test = weather_full[~weather_full[\"timestamp\"].isin(training_runtimes)][[\"rainfall\"]]\n",
    "X_train=X_train.drop(columns=[\"timestamp\"])\n",
    "X_test=X_test.drop(columns=[\"timestamp\"])"
   ]
  },
  {
   "cell_type": "code",
   "execution_count": 34,
   "id": "cf0ffde4",
   "metadata": {},
   "outputs": [],
   "source": [
    "temp_df=pd.concat([X_train,X_test],axis=0)\n",
    "temp_df=pd.get_dummies(temp_df, columns=[\"region\"], prefix=[\"region\"])\n",
    "X_train = temp_df.iloc[:len(X_train),:]\n",
    "X_test = temp_df.iloc[len(X_train):,:]\n",
    "del temp_df"
   ]
  },
  {
   "cell_type": "code",
   "execution_count": 35,
   "id": "ddcbf725",
   "metadata": {},
   "outputs": [
    {
     "name": "stdout",
     "output_type": "stream",
     "text": [
      "Counter({0.0: 143549, 1.0: 12625})\n"
     ]
    },
    {
     "data": {
      "text/plain": [
       "Counter({0.0: 140499, 1.0: 12625})"
      ]
     },
     "execution_count": 35,
     "metadata": {},
     "output_type": "execute_result"
    }
   ],
   "source": [
    "from imblearn.under_sampling import TomekLinks\n",
    "print(Counter(y_train.rainfall))\n",
    "tomek = TomekLinks()\n",
    "X_resampled, y_resampled = tomek.fit_resample(X_train, y_train.rainfall)\n",
    "Counter(y_resampled)"
   ]
  },
  {
   "cell_type": "code",
   "execution_count": 36,
   "id": "78210619",
   "metadata": {},
   "outputs": [],
   "source": [
    "temp_df=pd.concat([X_resampled,X_test],axis=0)\n",
    "scaler=StandardScaler()\n",
    "temp_df.iloc[:,5:14]=scaler.fit_transform(temp_df.iloc[:,5:14])\n",
    "X_resampled = temp_df.iloc[:len(X_resampled),:]\n",
    "X_test = temp_df.iloc[len(X_resampled):,:]\n",
    "del temp_df"
   ]
  },
  {
   "cell_type": "code",
   "execution_count": 37,
   "id": "3ddd0bf0",
   "metadata": {},
   "outputs": [
    {
     "name": "stdout",
     "output_type": "stream",
     "text": [
      "F1: 0.3443993312634344\n",
      "ROC AUC: 0.6463425694063671\n"
     ]
    }
   ],
   "source": [
    "clf=DecisionTreeClassifier(random_state=0)\n",
    "clf.fit(X_resampled,y_resampled)\n",
    "y_pred=clf.predict(X_test)\n",
    "print(\"F1:\",f1_score(y_test, y_pred))\n",
    "print(\"ROC AUC:\",roc_auc_score(y_test, clf.predict_proba(X_test)[:, 1]))"
   ]
  },
  {
   "cell_type": "code",
   "execution_count": 38,
   "id": "47ac1cb1",
   "metadata": {},
   "outputs": [
    {
     "data": {
      "text/plain": [
       "0.2738792047850264"
      ]
     },
     "execution_count": 38,
     "metadata": {},
     "output_type": "execute_result"
    }
   ],
   "source": [
    "cross_val_score(clf, X_resampled, y_resampled, scoring=\"f1\",cv=10).mean()"
   ]
  },
  {
   "cell_type": "markdown",
   "id": "eb5c742c",
   "metadata": {},
   "source": [
    "Result: Comparable to (but slightly better than) SMOTE-NC in test but worse in training."
   ]
  },
  {
   "cell_type": "markdown",
   "id": "ca2ef968",
   "metadata": {},
   "source": [
    "## Section 7: SMOTEENN"
   ]
  },
  {
   "cell_type": "markdown",
   "id": "bc8504fe",
   "metadata": {},
   "source": [
    "Redo the steps:\n",
    "1. Train-test split\n",
    "2. Dummifying first since SMOTEENN cannot handle categorical\n",
    "3. Resampling\n",
    "3. Normalization\n",
    "4. Modelling"
   ]
  },
  {
   "cell_type": "code",
   "execution_count": 39,
   "id": "62ffef5f",
   "metadata": {},
   "outputs": [],
   "source": [
    "runtimes=list(pd.date_range('2017-01-01 00:00:00',\n",
    "                            '2021-12-31 23:59:59',\n",
    "                            freq='60T'))\n",
    "training_runtimes=runtimes[:int(0.8*len(runtimes))]\n",
    "X_train = weather_full[weather_full[\"timestamp\"].isin(training_runtimes)].iloc[:,:-1]\n",
    "X_test = weather_full[~weather_full[\"timestamp\"].isin(training_runtimes)].iloc[:,:-1]\n",
    "y_train = weather_full[weather_full[\"timestamp\"].isin(training_runtimes)][[\"rainfall\"]]\n",
    "y_test = weather_full[~weather_full[\"timestamp\"].isin(training_runtimes)][[\"rainfall\"]]\n",
    "X_train=X_train.drop(columns=[\"timestamp\"])\n",
    "X_test=X_test.drop(columns=[\"timestamp\"])"
   ]
  },
  {
   "cell_type": "code",
   "execution_count": 40,
   "id": "aaa95e41",
   "metadata": {},
   "outputs": [],
   "source": [
    "temp_df=pd.concat([X_train,X_test],axis=0)\n",
    "temp_df=pd.get_dummies(temp_df, columns=[\"region\"], prefix=[\"region\"])\n",
    "X_train = temp_df.iloc[:len(X_train),:]\n",
    "X_test = temp_df.iloc[len(X_train):,:]\n",
    "del temp_df"
   ]
  },
  {
   "cell_type": "code",
   "execution_count": 41,
   "id": "128e2d19",
   "metadata": {},
   "outputs": [
    {
     "name": "stdout",
     "output_type": "stream",
     "text": [
      "Counter({0.0: 143549, 1.0: 12625})\n"
     ]
    },
    {
     "data": {
      "text/plain": [
       "Counter({0.0: 109257, 1.0: 142924})"
      ]
     },
     "execution_count": 41,
     "metadata": {},
     "output_type": "execute_result"
    }
   ],
   "source": [
    "print(Counter(y_train.rainfall))\n",
    "smoteenn = SMOTEENN(random_state=0)\n",
    "X_resampled, y_resampled = smoteenn.fit_resample(X_train, y_train.rainfall)\n",
    "Counter(y_resampled)"
   ]
  },
  {
   "cell_type": "code",
   "execution_count": 42,
   "id": "c5f5c2a8",
   "metadata": {},
   "outputs": [],
   "source": [
    "temp_df=pd.concat([X_resampled,X_test],axis=0)\n",
    "scaler=StandardScaler()\n",
    "temp_df.iloc[:,5:14]=scaler.fit_transform(temp_df.iloc[:,5:14])\n",
    "X_resampled = temp_df.iloc[:len(X_resampled),:]\n",
    "X_test = temp_df.iloc[len(X_resampled):,:]\n",
    "del temp_df"
   ]
  },
  {
   "cell_type": "code",
   "execution_count": 43,
   "id": "2e5c2149",
   "metadata": {},
   "outputs": [
    {
     "name": "stdout",
     "output_type": "stream",
     "text": [
      "F1: 0.3974919247577427\n",
      "ROC AUC: 0.710815707836445\n"
     ]
    }
   ],
   "source": [
    "clf=DecisionTreeClassifier(random_state=0)\n",
    "clf.fit(X_resampled,y_resampled)\n",
    "y_pred=clf.predict(X_test)\n",
    "print(\"F1:\",f1_score(y_test, y_pred))\n",
    "print(\"ROC AUC:\",roc_auc_score(y_test, clf.predict_proba(X_test)[:, 1]))"
   ]
  },
  {
   "cell_type": "code",
   "execution_count": 44,
   "id": "f6397a9f",
   "metadata": {},
   "outputs": [
    {
     "data": {
      "text/plain": [
       "0.8965584692511737"
      ]
     },
     "execution_count": 44,
     "metadata": {},
     "output_type": "execute_result"
    }
   ],
   "source": [
    "cross_val_score(clf, X_resampled, y_resampled, scoring=\"f1\",cv=10).mean()"
   ]
  },
  {
   "cell_type": "markdown",
   "id": "47e68027",
   "metadata": {},
   "source": [
    "Combination of both does the best in both test and training."
   ]
  },
  {
   "cell_type": "markdown",
   "id": "710f792b",
   "metadata": {},
   "source": [
    "## Section 8: TabGANs"
   ]
  },
  {
   "cell_type": "markdown",
   "id": "31f50ce3",
   "metadata": {},
   "source": [
    "Redo the steps:\n",
    "1. Train-test split\n",
    "2. Resampling\n",
    "3. Dummifying and Normalization\n",
    "4. Modelling"
   ]
  },
  {
   "cell_type": "code",
   "execution_count": 45,
   "id": "5564596a",
   "metadata": {},
   "outputs": [],
   "source": [
    "runtimes=list(pd.date_range('2017-01-01 00:00:00',\n",
    "                            '2021-12-31 23:59:59',\n",
    "                            freq='60T'))\n",
    "training_runtimes=runtimes[:int(0.8*len(runtimes))]\n",
    "X_train = weather_full[weather_full[\"timestamp\"].isin(training_runtimes)].iloc[:,:-1]\n",
    "X_test = weather_full[~weather_full[\"timestamp\"].isin(training_runtimes)].iloc[:,:-1]\n",
    "y_train = weather_full[weather_full[\"timestamp\"].isin(training_runtimes)][[\"rainfall\"]]\n",
    "y_test = weather_full[~weather_full[\"timestamp\"].isin(training_runtimes)][[\"rainfall\"]]\n",
    "X_train=X_train.drop(columns=[\"timestamp\"])\n",
    "X_test=X_test.drop(columns=[\"timestamp\"])"
   ]
  },
  {
   "cell_type": "code",
   "execution_count": 46,
   "id": "e4707110",
   "metadata": {},
   "outputs": [
    {
     "name": "stdout",
     "output_type": "stream",
     "text": [
      "Counter({0.0: 143549, 1.0: 12625})\n"
     ]
    },
    {
     "data": {
      "application/vnd.jupyter.widget-view+json": {
       "model_id": "809f7adbb20843f6a3406bfa896bd123",
       "version_major": 2,
       "version_minor": 0
      },
      "text/plain": [
       "Fitting CTGAN transformers for each column:   0%|          | 0/16 [00:00<?, ?it/s]"
      ]
     },
     "metadata": {},
     "output_type": "display_data"
    },
    {
     "data": {
      "application/vnd.jupyter.widget-view+json": {
       "model_id": "c4abc35894c447519cffb1d4068d793a",
       "version_major": 2,
       "version_minor": 0
      },
      "text/plain": [
       "Training CTGAN, epochs::   0%|          | 0/500 [00:00<?, ?it/s]"
      ]
     },
     "metadata": {},
     "output_type": "display_data"
    },
    {
     "name": "stderr",
     "output_type": "stream",
     "text": [
      "C:\\Users\\User\\anaconda3\\lib\\site-packages\\lightgbm\\sklearn.py:726: UserWarning: 'early_stopping_rounds' argument is deprecated and will be removed in a future release of LightGBM. Pass 'early_stopping()' callback via 'callbacks' argument instead.\n",
      "  _log_warning(\"'early_stopping_rounds' argument is deprecated and will be removed in a future release of LightGBM. \"\n",
      "C:\\Users\\User\\anaconda3\\lib\\site-packages\\lightgbm\\sklearn.py:736: UserWarning: 'verbose' argument is deprecated and will be removed in a future release of LightGBM. Pass 'log_evaluation()' callback via 'callbacks' argument instead.\n",
      "  _log_warning(\"'verbose' argument is deprecated and will be removed in a future release of LightGBM. \"\n",
      "C:\\Users\\User\\anaconda3\\lib\\site-packages\\lightgbm\\basic.py:1780: UserWarning: Overriding the parameters from Reference Dataset.\n",
      "  _log_warning('Overriding the parameters from Reference Dataset.')\n",
      "C:\\Users\\User\\anaconda3\\lib\\site-packages\\lightgbm\\basic.py:1513: UserWarning: categorical_column in param dict is overridden.\n",
      "  _log_warning(f'{cat_alias} in param dict is overridden.')\n",
      "C:\\Users\\User\\anaconda3\\lib\\site-packages\\lightgbm\\sklearn.py:726: UserWarning: 'early_stopping_rounds' argument is deprecated and will be removed in a future release of LightGBM. Pass 'early_stopping()' callback via 'callbacks' argument instead.\n",
      "  _log_warning(\"'early_stopping_rounds' argument is deprecated and will be removed in a future release of LightGBM. \"\n",
      "C:\\Users\\User\\anaconda3\\lib\\site-packages\\lightgbm\\sklearn.py:736: UserWarning: 'verbose' argument is deprecated and will be removed in a future release of LightGBM. Pass 'log_evaluation()' callback via 'callbacks' argument instead.\n",
      "  _log_warning(\"'verbose' argument is deprecated and will be removed in a future release of LightGBM. \"\n",
      "C:\\Users\\User\\anaconda3\\lib\\site-packages\\lightgbm\\basic.py:1780: UserWarning: Overriding the parameters from Reference Dataset.\n",
      "  _log_warning('Overriding the parameters from Reference Dataset.')\n",
      "C:\\Users\\User\\anaconda3\\lib\\site-packages\\lightgbm\\basic.py:1513: UserWarning: categorical_column in param dict is overridden.\n",
      "  _log_warning(f'{cat_alias} in param dict is overridden.')\n",
      "C:\\Users\\User\\anaconda3\\lib\\site-packages\\lightgbm\\sklearn.py:726: UserWarning: 'early_stopping_rounds' argument is deprecated and will be removed in a future release of LightGBM. Pass 'early_stopping()' callback via 'callbacks' argument instead.\n",
      "  _log_warning(\"'early_stopping_rounds' argument is deprecated and will be removed in a future release of LightGBM. \"\n",
      "C:\\Users\\User\\anaconda3\\lib\\site-packages\\lightgbm\\sklearn.py:736: UserWarning: 'verbose' argument is deprecated and will be removed in a future release of LightGBM. Pass 'log_evaluation()' callback via 'callbacks' argument instead.\n",
      "  _log_warning(\"'verbose' argument is deprecated and will be removed in a future release of LightGBM. \"\n",
      "C:\\Users\\User\\anaconda3\\lib\\site-packages\\lightgbm\\basic.py:1780: UserWarning: Overriding the parameters from Reference Dataset.\n",
      "  _log_warning('Overriding the parameters from Reference Dataset.')\n",
      "C:\\Users\\User\\anaconda3\\lib\\site-packages\\lightgbm\\basic.py:1513: UserWarning: categorical_column in param dict is overridden.\n",
      "  _log_warning(f'{cat_alias} in param dict is overridden.')\n",
      "C:\\Users\\User\\anaconda3\\lib\\site-packages\\lightgbm\\sklearn.py:726: UserWarning: 'early_stopping_rounds' argument is deprecated and will be removed in a future release of LightGBM. Pass 'early_stopping()' callback via 'callbacks' argument instead.\n",
      "  _log_warning(\"'early_stopping_rounds' argument is deprecated and will be removed in a future release of LightGBM. \"\n",
      "C:\\Users\\User\\anaconda3\\lib\\site-packages\\lightgbm\\sklearn.py:736: UserWarning: 'verbose' argument is deprecated and will be removed in a future release of LightGBM. Pass 'log_evaluation()' callback via 'callbacks' argument instead.\n",
      "  _log_warning(\"'verbose' argument is deprecated and will be removed in a future release of LightGBM. \"\n",
      "C:\\Users\\User\\anaconda3\\lib\\site-packages\\lightgbm\\basic.py:1780: UserWarning: Overriding the parameters from Reference Dataset.\n",
      "  _log_warning('Overriding the parameters from Reference Dataset.')\n",
      "C:\\Users\\User\\anaconda3\\lib\\site-packages\\lightgbm\\basic.py:1513: UserWarning: categorical_column in param dict is overridden.\n",
      "  _log_warning(f'{cat_alias} in param dict is overridden.')\n",
      "C:\\Users\\User\\anaconda3\\lib\\site-packages\\lightgbm\\sklearn.py:726: UserWarning: 'early_stopping_rounds' argument is deprecated and will be removed in a future release of LightGBM. Pass 'early_stopping()' callback via 'callbacks' argument instead.\n",
      "  _log_warning(\"'early_stopping_rounds' argument is deprecated and will be removed in a future release of LightGBM. \"\n",
      "C:\\Users\\User\\anaconda3\\lib\\site-packages\\lightgbm\\sklearn.py:736: UserWarning: 'verbose' argument is deprecated and will be removed in a future release of LightGBM. Pass 'log_evaluation()' callback via 'callbacks' argument instead.\n",
      "  _log_warning(\"'verbose' argument is deprecated and will be removed in a future release of LightGBM. \"\n",
      "C:\\Users\\User\\anaconda3\\lib\\site-packages\\lightgbm\\basic.py:1780: UserWarning: Overriding the parameters from Reference Dataset.\n",
      "  _log_warning('Overriding the parameters from Reference Dataset.')\n",
      "C:\\Users\\User\\anaconda3\\lib\\site-packages\\lightgbm\\basic.py:1513: UserWarning: categorical_column in param dict is overridden.\n",
      "  _log_warning(f'{cat_alias} in param dict is overridden.')\n"
     ]
    },
    {
     "data": {
      "text/plain": [
       "Counter({0: 66773, 1: 6753})"
      ]
     },
     "execution_count": 46,
     "metadata": {},
     "output_type": "execute_result"
    }
   ],
   "source": [
    "print(Counter(y_train.rainfall))\n",
    "y_train.rainfall=y_train.rainfall.astype(int)\n",
    "X_resampled, y_resampled = GANGenerator(cat_cols=[\"year\",\"quarter\",\"month\",\"day\",\"hour\",\"region\"]).generate_data_pipe(X_train, y_train, X_test)\n",
    "Counter(y_resampled)"
   ]
  },
  {
   "cell_type": "code",
   "execution_count": 47,
   "id": "634c4438",
   "metadata": {},
   "outputs": [],
   "source": [
    "temp_df=pd.concat([X_resampled,X_test],axis=0)\n",
    "temp_df=pd.get_dummies(temp_df, columns=[\"region\"], prefix=[\"region\"])\n",
    "scaler=StandardScaler()\n",
    "temp_df.iloc[:,5:14]=scaler.fit_transform(temp_df.iloc[:,5:14])\n",
    "X_resampled = temp_df.iloc[:len(X_resampled),:]\n",
    "X_test = temp_df.iloc[len(X_resampled):,:]\n",
    "del temp_df"
   ]
  },
  {
   "cell_type": "code",
   "execution_count": 48,
   "id": "40e92fd2",
   "metadata": {},
   "outputs": [
    {
     "name": "stdout",
     "output_type": "stream",
     "text": [
      "F1: 0.316138540899042\n",
      "ROC AUC: 0.6272309428099528\n"
     ]
    }
   ],
   "source": [
    "clf=DecisionTreeClassifier(random_state=0)\n",
    "clf.fit(X_resampled,y_resampled)\n",
    "y_pred=clf.predict(X_test)\n",
    "print(\"F1:\",f1_score(y_test, y_pred))\n",
    "print(\"ROC AUC:\",roc_auc_score(y_test, clf.predict_proba(X_test)[:, 1]))"
   ]
  },
  {
   "cell_type": "code",
   "execution_count": 49,
   "id": "4ae167d1",
   "metadata": {},
   "outputs": [
    {
     "data": {
      "text/plain": [
       "0.264966196645999"
      ]
     },
     "execution_count": 49,
     "metadata": {},
     "output_type": "execute_result"
    }
   ],
   "source": [
    "cross_val_score(clf, X_resampled, y_resampled, scoring=\"f1\",cv=10).mean()"
   ]
  },
  {
   "cell_type": "markdown",
   "id": "4a700e97",
   "metadata": {},
   "source": [
    "Result: It could be possible that GANs do not work well for tabular data."
   ]
  },
  {
   "cell_type": "markdown",
   "id": "8e3ebc8f",
   "metadata": {},
   "source": [
    "## <center>Summary</center>"
   ]
  },
  {
   "cell_type": "markdown",
   "id": "e8b0d6b3",
   "metadata": {},
   "source": [
    "|       |          |  None | SMOTE-NC | SMOTE | ADASYN |  ENN  | TomekLinks |  SMOTEENN | TabGAN |\n",
    "|-------|:--------:|:-----:|:--------:|:-----:|:------:|:-----:|:----------:|:---------:|:------:|\n",
    "| Test  |    F1    | 0.322 |   0.336  | 0.340 |  0.334 | 0.390 |    0.344   | **0.397** |  0.316 |\n",
    "|       |  ROC AUC | 0.630 |   0.644  | 0.642 |  0.640 | 0.687 |    0.646   | **0.711** |  0.627 |\n",
    "| Train | CV Score | 0.258 |   0.816  | 0.847 |  0.848 | 0.347 |    0.274   | **0.897** |  0.265 |"
   ]
  },
  {
   "cell_type": "markdown",
   "id": "d7a4c950",
   "metadata": {},
   "source": [
    "From this table, we can see that SMOTEENN performed the best, and surprisingly Tabular GANs did not perform very well with our dataset."
   ]
  }
 ],
 "metadata": {
  "kernelspec": {
   "display_name": "Python 3",
   "language": "python",
   "name": "python3"
  },
  "language_info": {
   "codemirror_mode": {
    "name": "ipython",
    "version": 3
   },
   "file_extension": ".py",
   "mimetype": "text/x-python",
   "name": "python",
   "nbconvert_exporter": "python",
   "pygments_lexer": "ipython3",
   "version": "3.8.5"
  }
 },
 "nbformat": 4,
 "nbformat_minor": 5
}
